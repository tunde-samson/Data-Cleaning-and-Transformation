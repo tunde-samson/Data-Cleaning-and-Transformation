{
 "cells": [
  {
   "cell_type": "code",
   "execution_count": 18,
   "id": "6c890f30",
   "metadata": {},
   "outputs": [],
   "source": [
    "#This is a data cleaning project with dataset of (20000 rows and 15 columns)\n",
    "\n",
    "# Data Cleaning\n",
    "\n",
    "# Missing Values => Droping the missing value OR filling in the mising value by taking mean or median of other data points\n",
    "# Duplicated values => Identify and removing duplicated values\n",
    "# Correcting data types => Converting datatypes into appropriate dtypes like string to datetime for date format\n",
    "# Standardizing formats => Normalizing datetime, currency, and unit like converting data point into one unit or format\n",
    "# Fixing structural errors => correcting typo errors like MLes as for Males\n",
    "# Filtering outliers => removing extreme data points using statistic Z scores\n",
    "# Validating data accuracy => for example age cannot be negatives"
   ]
  },
  {
   "cell_type": "code",
   "execution_count": 61,
   "id": "30f25080",
   "metadata": {},
   "outputs": [],
   "source": [
    "#importing libraries\n",
    "\n",
    "import pandas as pd\n",
    "import numpy as np\n",
    "import seaborn as sns\n",
    "import matplotlib.pyplot as plt\n",
    "import plotly.express as ex"
   ]
  },
  {
   "cell_type": "code",
   "execution_count": 2,
   "id": "684f28a0",
   "metadata": {},
   "outputs": [],
   "source": [
    "df = pd.read_csv('flipkart_com-ecommerce_sample.csv')"
   ]
  },
  {
   "cell_type": "code",
   "execution_count": 6,
   "id": "c9b3bee7",
   "metadata": {},
   "outputs": [
    {
     "data": {
      "text/html": [
       "<div>\n",
       "<style scoped>\n",
       "    .dataframe tbody tr th:only-of-type {\n",
       "        vertical-align: middle;\n",
       "    }\n",
       "\n",
       "    .dataframe tbody tr th {\n",
       "        vertical-align: top;\n",
       "    }\n",
       "\n",
       "    .dataframe thead th {\n",
       "        text-align: right;\n",
       "    }\n",
       "</style>\n",
       "<table border=\"1\" class=\"dataframe\">\n",
       "  <thead>\n",
       "    <tr style=\"text-align: right;\">\n",
       "      <th></th>\n",
       "      <th>uniq_id</th>\n",
       "      <th>crawl_timestamp</th>\n",
       "      <th>product_url</th>\n",
       "      <th>product_name</th>\n",
       "      <th>product_category_tree</th>\n",
       "      <th>pid</th>\n",
       "      <th>retail_price</th>\n",
       "      <th>discounted_price</th>\n",
       "      <th>image</th>\n",
       "      <th>is_FK_Advantage_product</th>\n",
       "      <th>description</th>\n",
       "      <th>product_rating</th>\n",
       "      <th>overall_rating</th>\n",
       "      <th>brand</th>\n",
       "      <th>product_specifications</th>\n",
       "    </tr>\n",
       "  </thead>\n",
       "  <tbody>\n",
       "    <tr>\n",
       "      <th>0</th>\n",
       "      <td>c2d766ca982eca8304150849735ffef9</td>\n",
       "      <td>2016-03-25 22:59:23 +0000</td>\n",
       "      <td>http://www.flipkart.com/alisha-solid-women-s-c...</td>\n",
       "      <td>Alisha Solid Women's Cycling Shorts</td>\n",
       "      <td>[\"Clothing &gt;&gt; Women's Clothing &gt;&gt; Lingerie, Sl...</td>\n",
       "      <td>SRTEH2FF9KEDEFGF</td>\n",
       "      <td>999.0</td>\n",
       "      <td>379.0</td>\n",
       "      <td>[\"http://img5a.flixcart.com/image/short/u/4/a/...</td>\n",
       "      <td>False</td>\n",
       "      <td>Key Features of Alisha Solid Women's Cycling S...</td>\n",
       "      <td>No rating available</td>\n",
       "      <td>No rating available</td>\n",
       "      <td>Alisha</td>\n",
       "      <td>{\"product_specification\"=&gt;[{\"key\"=&gt;\"Number of ...</td>\n",
       "    </tr>\n",
       "    <tr>\n",
       "      <th>1</th>\n",
       "      <td>7f7036a6d550aaa89d34c77bd39a5e48</td>\n",
       "      <td>2016-03-25 22:59:23 +0000</td>\n",
       "      <td>http://www.flipkart.com/fabhomedecor-fabric-do...</td>\n",
       "      <td>FabHomeDecor Fabric Double Sofa Bed</td>\n",
       "      <td>[\"Furniture &gt;&gt; Living Room Furniture &gt;&gt; Sofa B...</td>\n",
       "      <td>SBEEH3QGU7MFYJFY</td>\n",
       "      <td>32157.0</td>\n",
       "      <td>22646.0</td>\n",
       "      <td>[\"http://img6a.flixcart.com/image/sofa-bed/j/f...</td>\n",
       "      <td>False</td>\n",
       "      <td>FabHomeDecor Fabric Double Sofa Bed (Finish Co...</td>\n",
       "      <td>No rating available</td>\n",
       "      <td>No rating available</td>\n",
       "      <td>FabHomeDecor</td>\n",
       "      <td>{\"product_specification\"=&gt;[{\"key\"=&gt;\"Installati...</td>\n",
       "    </tr>\n",
       "  </tbody>\n",
       "</table>\n",
       "</div>"
      ],
      "text/plain": [
       "                            uniq_id            crawl_timestamp  \\\n",
       "0  c2d766ca982eca8304150849735ffef9  2016-03-25 22:59:23 +0000   \n",
       "1  7f7036a6d550aaa89d34c77bd39a5e48  2016-03-25 22:59:23 +0000   \n",
       "\n",
       "                                         product_url  \\\n",
       "0  http://www.flipkart.com/alisha-solid-women-s-c...   \n",
       "1  http://www.flipkart.com/fabhomedecor-fabric-do...   \n",
       "\n",
       "                          product_name  \\\n",
       "0  Alisha Solid Women's Cycling Shorts   \n",
       "1  FabHomeDecor Fabric Double Sofa Bed   \n",
       "\n",
       "                               product_category_tree               pid  \\\n",
       "0  [\"Clothing >> Women's Clothing >> Lingerie, Sl...  SRTEH2FF9KEDEFGF   \n",
       "1  [\"Furniture >> Living Room Furniture >> Sofa B...  SBEEH3QGU7MFYJFY   \n",
       "\n",
       "   retail_price  discounted_price  \\\n",
       "0         999.0             379.0   \n",
       "1       32157.0           22646.0   \n",
       "\n",
       "                                               image  is_FK_Advantage_product  \\\n",
       "0  [\"http://img5a.flixcart.com/image/short/u/4/a/...                    False   \n",
       "1  [\"http://img6a.flixcart.com/image/sofa-bed/j/f...                    False   \n",
       "\n",
       "                                         description       product_rating  \\\n",
       "0  Key Features of Alisha Solid Women's Cycling S...  No rating available   \n",
       "1  FabHomeDecor Fabric Double Sofa Bed (Finish Co...  No rating available   \n",
       "\n",
       "        overall_rating         brand  \\\n",
       "0  No rating available        Alisha   \n",
       "1  No rating available  FabHomeDecor   \n",
       "\n",
       "                              product_specifications  \n",
       "0  {\"product_specification\"=>[{\"key\"=>\"Number of ...  \n",
       "1  {\"product_specification\"=>[{\"key\"=>\"Installati...  "
      ]
     },
     "execution_count": 6,
     "metadata": {},
     "output_type": "execute_result"
    }
   ],
   "source": [
    "df.head(2)"
   ]
  },
  {
   "cell_type": "code",
   "execution_count": null,
   "id": "03b03aa4",
   "metadata": {},
   "outputs": [],
   "source": [
    "# Understanding my data\n",
    "\n",
    "#Uniq_id is ok, is the column id or customer id\n",
    "#crawl_timestamp => here i will convert this to datetime format or datatype, then extract the year, month, and day.\n",
    "#product_url => is ok is a textual data, unless I have need to specific use of it\n",
    "#Product_name is a textual data, can be use for top or bottom 10 product performance\n",
    "#product_category_tree => this data is separated by \">>\", this columns can be divided into category, sub-category, \n",
    "#Pid => this is product id\n",
    "#retail_price => this is float data type, but i will check for negative values and remove it\n",
    "#discount_price => this is float data type, but i will check for negative values and remove it\n",
    "#image => is ok is a textual data, unless I have need to specific use of it\n",
    "#is_FK_Advantage_product => this is a bool data type which i will convert to 1s and 0s\n",
    "#description is a textual data type can be use for NLP project or for chatbot \n",
    "#product_rating => this is an object categorical data, for product review, can be use for checking how customer love the items\n",
    "#Overall_rating => this is an object categorical data, for product review, can be use for checking how customer love the items\n",
    "#brand => textual data, can be use to check each brand sell more or less\n",
    "#product_specifications => this is in python dictionary format (key value pair), can be use for chatbot answering customers "
   ]
  },
  {
   "cell_type": "markdown",
   "id": "c222ba3f",
   "metadata": {},
   "source": [
    "### Data Cleaning\n",
    "#### 1. missing value => how to handle missing value, either drop them or fill in the misssing value with mean or median"
   ]
  },
  {
   "cell_type": "code",
   "execution_count": 8,
   "id": "6b6eab6c",
   "metadata": {},
   "outputs": [
    {
     "data": {
      "text/plain": [
       "uniq_id                       0\n",
       "crawl_timestamp               0\n",
       "product_url                   0\n",
       "product_name                  0\n",
       "product_category_tree         0\n",
       "pid                           0\n",
       "retail_price                 78\n",
       "discounted_price             78\n",
       "image                         3\n",
       "is_FK_Advantage_product       0\n",
       "description                   2\n",
       "product_rating                0\n",
       "overall_rating                0\n",
       "brand                      5864\n",
       "product_specifications       14\n",
       "dtype: int64"
      ]
     },
     "execution_count": 8,
     "metadata": {},
     "output_type": "execute_result"
    }
   ],
   "source": [
    "# checking for missing value\n",
    "\n",
    "df.isna().sum()"
   ]
  },
  {
   "cell_type": "code",
   "execution_count": 9,
   "id": "c7f71598",
   "metadata": {},
   "outputs": [
    {
     "name": "stdout",
     "output_type": "stream",
     "text": [
      "<class 'pandas.core.frame.DataFrame'>\n",
      "RangeIndex: 20000 entries, 0 to 19999\n",
      "Data columns (total 15 columns):\n",
      " #   Column                   Non-Null Count  Dtype  \n",
      "---  ------                   --------------  -----  \n",
      " 0   uniq_id                  20000 non-null  object \n",
      " 1   crawl_timestamp          20000 non-null  object \n",
      " 2   product_url              20000 non-null  object \n",
      " 3   product_name             20000 non-null  object \n",
      " 4   product_category_tree    20000 non-null  object \n",
      " 5   pid                      20000 non-null  object \n",
      " 6   retail_price             19922 non-null  float64\n",
      " 7   discounted_price         19922 non-null  float64\n",
      " 8   image                    19997 non-null  object \n",
      " 9   is_FK_Advantage_product  20000 non-null  bool   \n",
      " 10  description              19998 non-null  object \n",
      " 11  product_rating           20000 non-null  object \n",
      " 12  overall_rating           20000 non-null  object \n",
      " 13  brand                    14136 non-null  object \n",
      " 14  product_specifications   19986 non-null  object \n",
      "dtypes: bool(1), float64(2), object(12)\n",
      "memory usage: 2.2+ MB\n"
     ]
    }
   ],
   "source": [
    "#checking for data types of each columns\n",
    "\n",
    "df.info()"
   ]
  },
  {
   "cell_type": "code",
   "execution_count": 13,
   "id": "36812994",
   "metadata": {},
   "outputs": [
    {
     "data": {
      "text/plain": [
       "0                  Alisha\n",
       "1            FabHomeDecor\n",
       "2                      AW\n",
       "3                  Alisha\n",
       "4                  Sicons\n",
       "               ...       \n",
       "19995          WallDesign\n",
       "19996          Wallmantra\n",
       "19997    Elite Collection\n",
       "19998    Elite Collection\n",
       "19999    Elite Collection\n",
       "Name: brand, Length: 20000, dtype: object"
      ]
     },
     "execution_count": 13,
     "metadata": {},
     "output_type": "execute_result"
    }
   ],
   "source": [
    "# Here brand columns is an object data type, lets check the content\n",
    "\n",
    "df['brand']"
   ]
  },
  {
   "cell_type": "code",
   "execution_count": 15,
   "id": "edab4e28",
   "metadata": {},
   "outputs": [],
   "source": [
    "#now since the content is textual data or object, taking the mean or median is not possible, since it is not numerical data\n",
    "#so we will remove the missing dataset in this case\n",
    "\n",
    "df.dropna(inplace=True)"
   ]
  },
  {
   "cell_type": "code",
   "execution_count": 16,
   "id": "dfa7c5a2",
   "metadata": {},
   "outputs": [
    {
     "data": {
      "text/plain": [
       "(14058, 15)"
      ]
     },
     "execution_count": 16,
     "metadata": {},
     "output_type": "execute_result"
    }
   ],
   "source": [
    "#now checking for the remaining rows\n",
    "df.shape"
   ]
  },
  {
   "cell_type": "code",
   "execution_count": 19,
   "id": "8e069cf9",
   "metadata": {},
   "outputs": [
    {
     "data": {
      "text/plain": [
       "uniq_id                    0\n",
       "crawl_timestamp            0\n",
       "product_url                0\n",
       "product_name               0\n",
       "product_category_tree      0\n",
       "pid                        0\n",
       "retail_price               0\n",
       "discounted_price           0\n",
       "image                      0\n",
       "is_FK_Advantage_product    0\n",
       "description                0\n",
       "product_rating             0\n",
       "overall_rating             0\n",
       "brand                      0\n",
       "product_specifications     0\n",
       "dtype: int64"
      ]
     },
     "execution_count": 19,
     "metadata": {},
     "output_type": "execute_result"
    }
   ],
   "source": [
    "#now checking for missing value\n",
    "\n",
    "df.isna().sum()"
   ]
  },
  {
   "cell_type": "markdown",
   "id": "b7444447",
   "metadata": {},
   "source": [
    "### Data Cleaning (Removing duplicated values)"
   ]
  },
  {
   "cell_type": "code",
   "execution_count": 20,
   "id": "21484f50",
   "metadata": {},
   "outputs": [
    {
     "data": {
      "text/plain": [
       "0"
      ]
     },
     "execution_count": 20,
     "metadata": {},
     "output_type": "execute_result"
    }
   ],
   "source": [
    "#now no more missing values\n",
    "#now lets checking for duplicated values\n",
    "\n",
    "df.duplicated().sum()"
   ]
  },
  {
   "cell_type": "code",
   "execution_count": 21,
   "id": "756fc832",
   "metadata": {},
   "outputs": [
    {
     "name": "stdout",
     "output_type": "stream",
     "text": [
      "<class 'pandas.core.frame.DataFrame'>\n",
      "Index: 14058 entries, 0 to 19999\n",
      "Data columns (total 15 columns):\n",
      " #   Column                   Non-Null Count  Dtype  \n",
      "---  ------                   --------------  -----  \n",
      " 0   uniq_id                  14058 non-null  object \n",
      " 1   crawl_timestamp          14058 non-null  object \n",
      " 2   product_url              14058 non-null  object \n",
      " 3   product_name             14058 non-null  object \n",
      " 4   product_category_tree    14058 non-null  object \n",
      " 5   pid                      14058 non-null  object \n",
      " 6   retail_price             14058 non-null  float64\n",
      " 7   discounted_price         14058 non-null  float64\n",
      " 8   image                    14058 non-null  object \n",
      " 9   is_FK_Advantage_product  14058 non-null  bool   \n",
      " 10  description              14058 non-null  object \n",
      " 11  product_rating           14058 non-null  object \n",
      " 12  overall_rating           14058 non-null  object \n",
      " 13  brand                    14058 non-null  object \n",
      " 14  product_specifications   14058 non-null  object \n",
      "dtypes: bool(1), float64(2), object(12)\n",
      "memory usage: 1.6+ MB\n"
     ]
    }
   ],
   "source": [
    "#No duplicated values\n",
    "#now checking for data types\n",
    "\n",
    "df.info()"
   ]
  },
  {
   "cell_type": "markdown",
   "id": "a06b9115",
   "metadata": {},
   "source": [
    "### Data Cleaning (checking for data type and converting them)"
   ]
  },
  {
   "cell_type": "code",
   "execution_count": 36,
   "id": "48e10770",
   "metadata": {},
   "outputs": [],
   "source": [
    "#first working on crawl_timestamp, is an object data type, converting to datetime datatype and extracting year, month, and day\n",
    "\n",
    "df['crawl_timestamp'] = pd.to_datetime(df['crawl_timestamp'])"
   ]
  },
  {
   "cell_type": "code",
   "execution_count": 37,
   "id": "86e6d30b",
   "metadata": {},
   "outputs": [
    {
     "name": "stdout",
     "output_type": "stream",
     "text": [
      "<class 'pandas.core.frame.DataFrame'>\n",
      "Index: 14058 entries, 0 to 19999\n",
      "Data columns (total 15 columns):\n",
      " #   Column                   Non-Null Count  Dtype              \n",
      "---  ------                   --------------  -----              \n",
      " 0   uniq_id                  14058 non-null  object             \n",
      " 1   crawl_timestamp          14058 non-null  datetime64[ns, UTC]\n",
      " 2   product_url              14058 non-null  object             \n",
      " 3   product_name             14058 non-null  object             \n",
      " 4   product_category_tree    14058 non-null  object             \n",
      " 5   pid                      14058 non-null  object             \n",
      " 6   retail_price             14058 non-null  float64            \n",
      " 7   discounted_price         14058 non-null  float64            \n",
      " 8   image                    14058 non-null  object             \n",
      " 9   is_FK_Advantage_product  14058 non-null  bool               \n",
      " 10  description              14058 non-null  object             \n",
      " 11  product_rating           14058 non-null  object             \n",
      " 12  overall_rating           14058 non-null  object             \n",
      " 13  brand                    14058 non-null  object             \n",
      " 14  product_specifications   14058 non-null  object             \n",
      "dtypes: bool(1), datetime64[ns, UTC](1), float64(2), object(11)\n",
      "memory usage: 2.1+ MB\n"
     ]
    }
   ],
   "source": [
    "#now the crawl_timestamp is converting to datatime format, now extracting the year, month, weekday, and hour\n",
    "\n",
    "df.info()"
   ]
  },
  {
   "cell_type": "code",
   "execution_count": 43,
   "id": "a7c67b41",
   "metadata": {},
   "outputs": [],
   "source": [
    "#Extracting the year, month, weekday, and hour\n",
    "\n",
    "df['crawl_timestamp_year'] = df['crawl_timestamp'].dt.year\n",
    "df['crawl_timestamp_month'] = df['crawl_timestamp'].dt.month\n",
    "df['crawl_timestamp_weekday'] = df['crawl_timestamp'].dt.weekday\n",
    "df['crawl_timestamp_hour'] = df['crawl_timestamp'].dt.hour"
   ]
  },
  {
   "cell_type": "code",
   "execution_count": 45,
   "id": "385602fd",
   "metadata": {},
   "outputs": [
    {
     "data": {
      "text/html": [
       "<div>\n",
       "<style scoped>\n",
       "    .dataframe tbody tr th:only-of-type {\n",
       "        vertical-align: middle;\n",
       "    }\n",
       "\n",
       "    .dataframe tbody tr th {\n",
       "        vertical-align: top;\n",
       "    }\n",
       "\n",
       "    .dataframe thead th {\n",
       "        text-align: right;\n",
       "    }\n",
       "</style>\n",
       "<table border=\"1\" class=\"dataframe\">\n",
       "  <thead>\n",
       "    <tr style=\"text-align: right;\">\n",
       "      <th></th>\n",
       "      <th>0</th>\n",
       "      <th>1</th>\n",
       "      <th>2</th>\n",
       "      <th>3</th>\n",
       "      <th>4</th>\n",
       "    </tr>\n",
       "  </thead>\n",
       "  <tbody>\n",
       "    <tr>\n",
       "      <th>uniq_id</th>\n",
       "      <td>c2d766ca982eca8304150849735ffef9</td>\n",
       "      <td>7f7036a6d550aaa89d34c77bd39a5e48</td>\n",
       "      <td>f449ec65dcbc041b6ae5e6a32717d01b</td>\n",
       "      <td>0973b37acd0c664e3de26e97e5571454</td>\n",
       "      <td>bc940ea42ee6bef5ac7cea3fb5cfbee7</td>\n",
       "    </tr>\n",
       "    <tr>\n",
       "      <th>crawl_timestamp</th>\n",
       "      <td>2016-03-25 22:59:23+00:00</td>\n",
       "      <td>2016-03-25 22:59:23+00:00</td>\n",
       "      <td>2016-03-25 22:59:23+00:00</td>\n",
       "      <td>2016-03-25 22:59:23+00:00</td>\n",
       "      <td>2016-03-25 22:59:23+00:00</td>\n",
       "    </tr>\n",
       "    <tr>\n",
       "      <th>product_url</th>\n",
       "      <td>http://www.flipkart.com/alisha-solid-women-s-c...</td>\n",
       "      <td>http://www.flipkart.com/fabhomedecor-fabric-do...</td>\n",
       "      <td>http://www.flipkart.com/aw-bellies/p/itmeh4grg...</td>\n",
       "      <td>http://www.flipkart.com/alisha-solid-women-s-c...</td>\n",
       "      <td>http://www.flipkart.com/sicons-all-purpose-arn...</td>\n",
       "    </tr>\n",
       "    <tr>\n",
       "      <th>product_name</th>\n",
       "      <td>Alisha Solid Women's Cycling Shorts</td>\n",
       "      <td>FabHomeDecor Fabric Double Sofa Bed</td>\n",
       "      <td>AW Bellies</td>\n",
       "      <td>Alisha Solid Women's Cycling Shorts</td>\n",
       "      <td>Sicons All Purpose Arnica Dog Shampoo</td>\n",
       "    </tr>\n",
       "    <tr>\n",
       "      <th>product_category_tree</th>\n",
       "      <td>[\"Clothing &gt;&gt; Women's Clothing &gt;&gt; Lingerie, Sl...</td>\n",
       "      <td>[\"Furniture &gt;&gt; Living Room Furniture &gt;&gt; Sofa B...</td>\n",
       "      <td>[\"Footwear &gt;&gt; Women's Footwear &gt;&gt; Ballerinas &gt;...</td>\n",
       "      <td>[\"Clothing &gt;&gt; Women's Clothing &gt;&gt; Lingerie, Sl...</td>\n",
       "      <td>[\"Pet Supplies &gt;&gt; Grooming &gt;&gt; Skin &amp; Coat Care...</td>\n",
       "    </tr>\n",
       "    <tr>\n",
       "      <th>pid</th>\n",
       "      <td>SRTEH2FF9KEDEFGF</td>\n",
       "      <td>SBEEH3QGU7MFYJFY</td>\n",
       "      <td>SHOEH4GRSUBJGZXE</td>\n",
       "      <td>SRTEH2F6HUZMQ6SJ</td>\n",
       "      <td>PSOEH3ZYDMSYARJ5</td>\n",
       "    </tr>\n",
       "    <tr>\n",
       "      <th>retail_price</th>\n",
       "      <td>999.0</td>\n",
       "      <td>32157.0</td>\n",
       "      <td>999.0</td>\n",
       "      <td>699.0</td>\n",
       "      <td>220.0</td>\n",
       "    </tr>\n",
       "    <tr>\n",
       "      <th>discounted_price</th>\n",
       "      <td>379.0</td>\n",
       "      <td>22646.0</td>\n",
       "      <td>499.0</td>\n",
       "      <td>267.0</td>\n",
       "      <td>210.0</td>\n",
       "    </tr>\n",
       "    <tr>\n",
       "      <th>image</th>\n",
       "      <td>[\"http://img5a.flixcart.com/image/short/u/4/a/...</td>\n",
       "      <td>[\"http://img6a.flixcart.com/image/sofa-bed/j/f...</td>\n",
       "      <td>[\"http://img5a.flixcart.com/image/shoe/7/z/z/r...</td>\n",
       "      <td>[\"http://img5a.flixcart.com/image/short/6/2/h/...</td>\n",
       "      <td>[\"http://img5a.flixcart.com/image/pet-shampoo/...</td>\n",
       "    </tr>\n",
       "    <tr>\n",
       "      <th>is_FK_Advantage_product</th>\n",
       "      <td>False</td>\n",
       "      <td>False</td>\n",
       "      <td>False</td>\n",
       "      <td>False</td>\n",
       "      <td>False</td>\n",
       "    </tr>\n",
       "    <tr>\n",
       "      <th>description</th>\n",
       "      <td>Key Features of Alisha Solid Women's Cycling S...</td>\n",
       "      <td>FabHomeDecor Fabric Double Sofa Bed (Finish Co...</td>\n",
       "      <td>Key Features of AW Bellies Sandals Wedges Heel...</td>\n",
       "      <td>Key Features of Alisha Solid Women's Cycling S...</td>\n",
       "      <td>Specifications of Sicons All Purpose Arnica Do...</td>\n",
       "    </tr>\n",
       "    <tr>\n",
       "      <th>product_rating</th>\n",
       "      <td>No rating available</td>\n",
       "      <td>No rating available</td>\n",
       "      <td>No rating available</td>\n",
       "      <td>No rating available</td>\n",
       "      <td>No rating available</td>\n",
       "    </tr>\n",
       "    <tr>\n",
       "      <th>overall_rating</th>\n",
       "      <td>No rating available</td>\n",
       "      <td>No rating available</td>\n",
       "      <td>No rating available</td>\n",
       "      <td>No rating available</td>\n",
       "      <td>No rating available</td>\n",
       "    </tr>\n",
       "    <tr>\n",
       "      <th>brand</th>\n",
       "      <td>Alisha</td>\n",
       "      <td>FabHomeDecor</td>\n",
       "      <td>AW</td>\n",
       "      <td>Alisha</td>\n",
       "      <td>Sicons</td>\n",
       "    </tr>\n",
       "    <tr>\n",
       "      <th>product_specifications</th>\n",
       "      <td>{\"product_specification\"=&gt;[{\"key\"=&gt;\"Number of ...</td>\n",
       "      <td>{\"product_specification\"=&gt;[{\"key\"=&gt;\"Installati...</td>\n",
       "      <td>{\"product_specification\"=&gt;[{\"key\"=&gt;\"Ideal For\"...</td>\n",
       "      <td>{\"product_specification\"=&gt;[{\"key\"=&gt;\"Number of ...</td>\n",
       "      <td>{\"product_specification\"=&gt;[{\"key\"=&gt;\"Pet Type\",...</td>\n",
       "    </tr>\n",
       "    <tr>\n",
       "      <th>crawl_timestamp_year</th>\n",
       "      <td>2016</td>\n",
       "      <td>2016</td>\n",
       "      <td>2016</td>\n",
       "      <td>2016</td>\n",
       "      <td>2016</td>\n",
       "    </tr>\n",
       "    <tr>\n",
       "      <th>crawl_timestamp_month</th>\n",
       "      <td>3</td>\n",
       "      <td>3</td>\n",
       "      <td>3</td>\n",
       "      <td>3</td>\n",
       "      <td>3</td>\n",
       "    </tr>\n",
       "    <tr>\n",
       "      <th>crawl_timestamp_weekday</th>\n",
       "      <td>4</td>\n",
       "      <td>4</td>\n",
       "      <td>4</td>\n",
       "      <td>4</td>\n",
       "      <td>4</td>\n",
       "    </tr>\n",
       "    <tr>\n",
       "      <th>crawl_timestamp_hour</th>\n",
       "      <td>22</td>\n",
       "      <td>22</td>\n",
       "      <td>22</td>\n",
       "      <td>22</td>\n",
       "      <td>22</td>\n",
       "    </tr>\n",
       "  </tbody>\n",
       "</table>\n",
       "</div>"
      ],
      "text/plain": [
       "                                                                         0  \\\n",
       "uniq_id                                   c2d766ca982eca8304150849735ffef9   \n",
       "crawl_timestamp                                  2016-03-25 22:59:23+00:00   \n",
       "product_url              http://www.flipkart.com/alisha-solid-women-s-c...   \n",
       "product_name                           Alisha Solid Women's Cycling Shorts   \n",
       "product_category_tree    [\"Clothing >> Women's Clothing >> Lingerie, Sl...   \n",
       "pid                                                       SRTEH2FF9KEDEFGF   \n",
       "retail_price                                                         999.0   \n",
       "discounted_price                                                     379.0   \n",
       "image                    [\"http://img5a.flixcart.com/image/short/u/4/a/...   \n",
       "is_FK_Advantage_product                                              False   \n",
       "description              Key Features of Alisha Solid Women's Cycling S...   \n",
       "product_rating                                         No rating available   \n",
       "overall_rating                                         No rating available   \n",
       "brand                                                               Alisha   \n",
       "product_specifications   {\"product_specification\"=>[{\"key\"=>\"Number of ...   \n",
       "crawl_timestamp_year                                                  2016   \n",
       "crawl_timestamp_month                                                    3   \n",
       "crawl_timestamp_weekday                                                  4   \n",
       "crawl_timestamp_hour                                                    22   \n",
       "\n",
       "                                                                         1  \\\n",
       "uniq_id                                   7f7036a6d550aaa89d34c77bd39a5e48   \n",
       "crawl_timestamp                                  2016-03-25 22:59:23+00:00   \n",
       "product_url              http://www.flipkart.com/fabhomedecor-fabric-do...   \n",
       "product_name                           FabHomeDecor Fabric Double Sofa Bed   \n",
       "product_category_tree    [\"Furniture >> Living Room Furniture >> Sofa B...   \n",
       "pid                                                       SBEEH3QGU7MFYJFY   \n",
       "retail_price                                                       32157.0   \n",
       "discounted_price                                                   22646.0   \n",
       "image                    [\"http://img6a.flixcart.com/image/sofa-bed/j/f...   \n",
       "is_FK_Advantage_product                                              False   \n",
       "description              FabHomeDecor Fabric Double Sofa Bed (Finish Co...   \n",
       "product_rating                                         No rating available   \n",
       "overall_rating                                         No rating available   \n",
       "brand                                                         FabHomeDecor   \n",
       "product_specifications   {\"product_specification\"=>[{\"key\"=>\"Installati...   \n",
       "crawl_timestamp_year                                                  2016   \n",
       "crawl_timestamp_month                                                    3   \n",
       "crawl_timestamp_weekday                                                  4   \n",
       "crawl_timestamp_hour                                                    22   \n",
       "\n",
       "                                                                         2  \\\n",
       "uniq_id                                   f449ec65dcbc041b6ae5e6a32717d01b   \n",
       "crawl_timestamp                                  2016-03-25 22:59:23+00:00   \n",
       "product_url              http://www.flipkart.com/aw-bellies/p/itmeh4grg...   \n",
       "product_name                                                    AW Bellies   \n",
       "product_category_tree    [\"Footwear >> Women's Footwear >> Ballerinas >...   \n",
       "pid                                                       SHOEH4GRSUBJGZXE   \n",
       "retail_price                                                         999.0   \n",
       "discounted_price                                                     499.0   \n",
       "image                    [\"http://img5a.flixcart.com/image/shoe/7/z/z/r...   \n",
       "is_FK_Advantage_product                                              False   \n",
       "description              Key Features of AW Bellies Sandals Wedges Heel...   \n",
       "product_rating                                         No rating available   \n",
       "overall_rating                                         No rating available   \n",
       "brand                                                                   AW   \n",
       "product_specifications   {\"product_specification\"=>[{\"key\"=>\"Ideal For\"...   \n",
       "crawl_timestamp_year                                                  2016   \n",
       "crawl_timestamp_month                                                    3   \n",
       "crawl_timestamp_weekday                                                  4   \n",
       "crawl_timestamp_hour                                                    22   \n",
       "\n",
       "                                                                         3  \\\n",
       "uniq_id                                   0973b37acd0c664e3de26e97e5571454   \n",
       "crawl_timestamp                                  2016-03-25 22:59:23+00:00   \n",
       "product_url              http://www.flipkart.com/alisha-solid-women-s-c...   \n",
       "product_name                           Alisha Solid Women's Cycling Shorts   \n",
       "product_category_tree    [\"Clothing >> Women's Clothing >> Lingerie, Sl...   \n",
       "pid                                                       SRTEH2F6HUZMQ6SJ   \n",
       "retail_price                                                         699.0   \n",
       "discounted_price                                                     267.0   \n",
       "image                    [\"http://img5a.flixcart.com/image/short/6/2/h/...   \n",
       "is_FK_Advantage_product                                              False   \n",
       "description              Key Features of Alisha Solid Women's Cycling S...   \n",
       "product_rating                                         No rating available   \n",
       "overall_rating                                         No rating available   \n",
       "brand                                                               Alisha   \n",
       "product_specifications   {\"product_specification\"=>[{\"key\"=>\"Number of ...   \n",
       "crawl_timestamp_year                                                  2016   \n",
       "crawl_timestamp_month                                                    3   \n",
       "crawl_timestamp_weekday                                                  4   \n",
       "crawl_timestamp_hour                                                    22   \n",
       "\n",
       "                                                                         4  \n",
       "uniq_id                                   bc940ea42ee6bef5ac7cea3fb5cfbee7  \n",
       "crawl_timestamp                                  2016-03-25 22:59:23+00:00  \n",
       "product_url              http://www.flipkart.com/sicons-all-purpose-arn...  \n",
       "product_name                         Sicons All Purpose Arnica Dog Shampoo  \n",
       "product_category_tree    [\"Pet Supplies >> Grooming >> Skin & Coat Care...  \n",
       "pid                                                       PSOEH3ZYDMSYARJ5  \n",
       "retail_price                                                         220.0  \n",
       "discounted_price                                                     210.0  \n",
       "image                    [\"http://img5a.flixcart.com/image/pet-shampoo/...  \n",
       "is_FK_Advantage_product                                              False  \n",
       "description              Specifications of Sicons All Purpose Arnica Do...  \n",
       "product_rating                                         No rating available  \n",
       "overall_rating                                         No rating available  \n",
       "brand                                                               Sicons  \n",
       "product_specifications   {\"product_specification\"=>[{\"key\"=>\"Pet Type\",...  \n",
       "crawl_timestamp_year                                                  2016  \n",
       "crawl_timestamp_month                                                    3  \n",
       "crawl_timestamp_weekday                                                  4  \n",
       "crawl_timestamp_hour                                                    22  "
      ]
     },
     "execution_count": 45,
     "metadata": {},
     "output_type": "execute_result"
    }
   ],
   "source": [
    "df.head().T"
   ]
  },
  {
   "cell_type": "code",
   "execution_count": 47,
   "id": "e52064f8",
   "metadata": {},
   "outputs": [
    {
     "data": {
      "text/html": [
       "<div>\n",
       "<style scoped>\n",
       "    .dataframe tbody tr th:only-of-type {\n",
       "        vertical-align: middle;\n",
       "    }\n",
       "\n",
       "    .dataframe tbody tr th {\n",
       "        vertical-align: top;\n",
       "    }\n",
       "\n",
       "    .dataframe thead th {\n",
       "        text-align: right;\n",
       "    }\n",
       "</style>\n",
       "<table border=\"1\" class=\"dataframe\">\n",
       "  <thead>\n",
       "    <tr style=\"text-align: right;\">\n",
       "      <th></th>\n",
       "      <th>uniq_id</th>\n",
       "      <th>crawl_timestamp</th>\n",
       "      <th>product_url</th>\n",
       "      <th>product_name</th>\n",
       "      <th>product_category_tree</th>\n",
       "      <th>pid</th>\n",
       "      <th>retail_price</th>\n",
       "      <th>discounted_price</th>\n",
       "      <th>image</th>\n",
       "      <th>is_FK_Advantage_product</th>\n",
       "      <th>description</th>\n",
       "      <th>product_rating</th>\n",
       "      <th>overall_rating</th>\n",
       "      <th>brand</th>\n",
       "      <th>product_specifications</th>\n",
       "      <th>crawl_timestamp_year</th>\n",
       "      <th>crawl_timestamp_month</th>\n",
       "      <th>crawl_timestamp_weekday</th>\n",
       "      <th>crawl_timestamp_hour</th>\n",
       "    </tr>\n",
       "  </thead>\n",
       "  <tbody>\n",
       "  </tbody>\n",
       "</table>\n",
       "</div>"
      ],
      "text/plain": [
       "Empty DataFrame\n",
       "Columns: [uniq_id, crawl_timestamp, product_url, product_name, product_category_tree, pid, retail_price, discounted_price, image, is_FK_Advantage_product, description, product_rating, overall_rating, brand, product_specifications, crawl_timestamp_year, crawl_timestamp_month, crawl_timestamp_weekday, crawl_timestamp_hour]\n",
       "Index: []"
      ]
     },
     "execution_count": 47,
     "metadata": {},
     "output_type": "execute_result"
    }
   ],
   "source": [
    "#Now checking the retail_price and discounted_price for negative value or zero value, there should no negative in these two columns\n",
    "\n",
    "df[df['retail_price'] <= 0]\n",
    "\n",
    "#none negative value or zero value"
   ]
  },
  {
   "cell_type": "code",
   "execution_count": null,
   "id": "0f69a6a8",
   "metadata": {},
   "outputs": [],
   "source": [
    "#Standardizing formats => Normalizing datetime, currency, and unit like converting data point into one unit or format\n",
    "# Fixing structural errors => correcting typo errors like MLes as for Males\n",
    "# Filtering outliers => removing extreme data points using statistic Z scores\n",
    "# Validating data accuracy => for example age cannot be negatives"
   ]
  },
  {
   "cell_type": "code",
   "execution_count": 48,
   "id": "31ac16ca",
   "metadata": {},
   "outputs": [
    {
     "data": {
      "text/plain": [
       "is_FK_Advantage_product\n",
       "False    13722\n",
       "True       336\n",
       "Name: count, dtype: int64"
      ]
     },
     "execution_count": 48,
     "metadata": {},
     "output_type": "execute_result"
    }
   ],
   "source": [
    "#converting is_FK_Advantage_product or counting the numbers of False and True\n",
    "\n",
    "df['is_FK_Advantage_product'].value_counts()"
   ]
  },
  {
   "cell_type": "code",
   "execution_count": 59,
   "id": "d8c0fe8e",
   "metadata": {},
   "outputs": [
    {
     "data": {
      "text/html": [
       "<div>\n",
       "<style scoped>\n",
       "    .dataframe tbody tr th:only-of-type {\n",
       "        vertical-align: middle;\n",
       "    }\n",
       "\n",
       "    .dataframe tbody tr th {\n",
       "        vertical-align: top;\n",
       "    }\n",
       "\n",
       "    .dataframe thead th {\n",
       "        text-align: right;\n",
       "    }\n",
       "</style>\n",
       "<table border=\"1\" class=\"dataframe\">\n",
       "  <thead>\n",
       "    <tr style=\"text-align: right;\">\n",
       "      <th></th>\n",
       "      <th>brand</th>\n",
       "      <th>brands_count</th>\n",
       "    </tr>\n",
       "  </thead>\n",
       "  <tbody>\n",
       "    <tr>\n",
       "      <th>0</th>\n",
       "      <td>Allure Auto</td>\n",
       "      <td>468</td>\n",
       "    </tr>\n",
       "    <tr>\n",
       "      <th>1</th>\n",
       "      <td>Regular</td>\n",
       "      <td>308</td>\n",
       "    </tr>\n",
       "    <tr>\n",
       "      <th>2</th>\n",
       "      <td>Voylla</td>\n",
       "      <td>299</td>\n",
       "    </tr>\n",
       "    <tr>\n",
       "      <th>3</th>\n",
       "      <td>Slim</td>\n",
       "      <td>284</td>\n",
       "    </tr>\n",
       "    <tr>\n",
       "      <th>4</th>\n",
       "      <td>TheLostPuppy</td>\n",
       "      <td>229</td>\n",
       "    </tr>\n",
       "    <tr>\n",
       "      <th>5</th>\n",
       "      <td>Karatcraft</td>\n",
       "      <td>211</td>\n",
       "    </tr>\n",
       "    <tr>\n",
       "      <th>6</th>\n",
       "      <td>Black</td>\n",
       "      <td>167</td>\n",
       "    </tr>\n",
       "    <tr>\n",
       "      <th>7</th>\n",
       "      <td>White</td>\n",
       "      <td>155</td>\n",
       "    </tr>\n",
       "    <tr>\n",
       "      <th>8</th>\n",
       "      <td>DailyObjects</td>\n",
       "      <td>144</td>\n",
       "    </tr>\n",
       "    <tr>\n",
       "      <th>9</th>\n",
       "      <td>Speedwav</td>\n",
       "      <td>141</td>\n",
       "    </tr>\n",
       "  </tbody>\n",
       "</table>\n",
       "</div>"
      ],
      "text/plain": [
       "          brand  brands_count\n",
       "0   Allure Auto           468\n",
       "1       Regular           308\n",
       "2        Voylla           299\n",
       "3          Slim           284\n",
       "4  TheLostPuppy           229\n",
       "5    Karatcraft           211\n",
       "6         Black           167\n",
       "7         White           155\n",
       "8  DailyObjects           144\n",
       "9      Speedwav           141"
      ]
     },
     "execution_count": 59,
     "metadata": {},
     "output_type": "execute_result"
    }
   ],
   "source": [
    "#you can group by brand using is_FK_Advantage_product and counting the brand to know many brand are false and true, \n",
    "#sort the value and create another data frame from it, and propably creating a chart for top 10\n",
    "#or save it, then open in tableau to really compare the top 10 brand and bottom 10 brand\n",
    "\n",
    "brand_count = df.groupby('brand')['is_FK_Advantage_product'].count().sort_values(ascending=False).reset_index()\n",
    "\n",
    "brand_top_10 = brand_count.head(10)\n",
    "\n",
    "brand_top_10\n",
    "\n",
    "#now let rename the column properly\n",
    "\n",
    "brand_top_10.columns = ['brand', 'brands_count']\n",
    "\n",
    "brand_top_10"
   ]
  },
  {
   "cell_type": "code",
   "execution_count": 63,
   "id": "a43f0830",
   "metadata": {},
   "outputs": [
    {
     "data": {
      "application/vnd.plotly.v1+json": {
       "config": {
        "plotlyServerURL": "https://plot.ly"
       },
       "data": [
        {
         "alignmentgroup": "True",
         "hovertemplate": "brand=%{x}<br>brands_count=%{y}<extra></extra>",
         "legendgroup": "",
         "marker": {
          "color": "#636efa",
          "pattern": {
           "shape": ""
          }
         },
         "name": "",
         "offsetgroup": "",
         "orientation": "v",
         "showlegend": false,
         "textposition": "auto",
         "type": "bar",
         "x": [
          "Allure Auto",
          "Regular",
          "Voylla",
          "Slim",
          "TheLostPuppy",
          "Karatcraft",
          "Black",
          "White",
          "DailyObjects",
          "Speedwav"
         ],
         "xaxis": "x",
         "y": [
          468,
          308,
          299,
          284,
          229,
          211,
          167,
          155,
          144,
          141
         ],
         "yaxis": "y"
        }
       ],
       "layout": {
        "barmode": "relative",
        "legend": {
         "tracegroupgap": 0
        },
        "template": {
         "data": {
          "bar": [
           {
            "error_x": {
             "color": "#2a3f5f"
            },
            "error_y": {
             "color": "#2a3f5f"
            },
            "marker": {
             "line": {
              "color": "#E5ECF6",
              "width": 0.5
             },
             "pattern": {
              "fillmode": "overlay",
              "size": 10,
              "solidity": 0.2
             }
            },
            "type": "bar"
           }
          ],
          "barpolar": [
           {
            "marker": {
             "line": {
              "color": "#E5ECF6",
              "width": 0.5
             },
             "pattern": {
              "fillmode": "overlay",
              "size": 10,
              "solidity": 0.2
             }
            },
            "type": "barpolar"
           }
          ],
          "carpet": [
           {
            "aaxis": {
             "endlinecolor": "#2a3f5f",
             "gridcolor": "white",
             "linecolor": "white",
             "minorgridcolor": "white",
             "startlinecolor": "#2a3f5f"
            },
            "baxis": {
             "endlinecolor": "#2a3f5f",
             "gridcolor": "white",
             "linecolor": "white",
             "minorgridcolor": "white",
             "startlinecolor": "#2a3f5f"
            },
            "type": "carpet"
           }
          ],
          "choropleth": [
           {
            "colorbar": {
             "outlinewidth": 0,
             "ticks": ""
            },
            "type": "choropleth"
           }
          ],
          "contour": [
           {
            "colorbar": {
             "outlinewidth": 0,
             "ticks": ""
            },
            "colorscale": [
             [
              0,
              "#0d0887"
             ],
             [
              0.1111111111111111,
              "#46039f"
             ],
             [
              0.2222222222222222,
              "#7201a8"
             ],
             [
              0.3333333333333333,
              "#9c179e"
             ],
             [
              0.4444444444444444,
              "#bd3786"
             ],
             [
              0.5555555555555556,
              "#d8576b"
             ],
             [
              0.6666666666666666,
              "#ed7953"
             ],
             [
              0.7777777777777778,
              "#fb9f3a"
             ],
             [
              0.8888888888888888,
              "#fdca26"
             ],
             [
              1,
              "#f0f921"
             ]
            ],
            "type": "contour"
           }
          ],
          "contourcarpet": [
           {
            "colorbar": {
             "outlinewidth": 0,
             "ticks": ""
            },
            "type": "contourcarpet"
           }
          ],
          "heatmap": [
           {
            "colorbar": {
             "outlinewidth": 0,
             "ticks": ""
            },
            "colorscale": [
             [
              0,
              "#0d0887"
             ],
             [
              0.1111111111111111,
              "#46039f"
             ],
             [
              0.2222222222222222,
              "#7201a8"
             ],
             [
              0.3333333333333333,
              "#9c179e"
             ],
             [
              0.4444444444444444,
              "#bd3786"
             ],
             [
              0.5555555555555556,
              "#d8576b"
             ],
             [
              0.6666666666666666,
              "#ed7953"
             ],
             [
              0.7777777777777778,
              "#fb9f3a"
             ],
             [
              0.8888888888888888,
              "#fdca26"
             ],
             [
              1,
              "#f0f921"
             ]
            ],
            "type": "heatmap"
           }
          ],
          "heatmapgl": [
           {
            "colorbar": {
             "outlinewidth": 0,
             "ticks": ""
            },
            "colorscale": [
             [
              0,
              "#0d0887"
             ],
             [
              0.1111111111111111,
              "#46039f"
             ],
             [
              0.2222222222222222,
              "#7201a8"
             ],
             [
              0.3333333333333333,
              "#9c179e"
             ],
             [
              0.4444444444444444,
              "#bd3786"
             ],
             [
              0.5555555555555556,
              "#d8576b"
             ],
             [
              0.6666666666666666,
              "#ed7953"
             ],
             [
              0.7777777777777778,
              "#fb9f3a"
             ],
             [
              0.8888888888888888,
              "#fdca26"
             ],
             [
              1,
              "#f0f921"
             ]
            ],
            "type": "heatmapgl"
           }
          ],
          "histogram": [
           {
            "marker": {
             "pattern": {
              "fillmode": "overlay",
              "size": 10,
              "solidity": 0.2
             }
            },
            "type": "histogram"
           }
          ],
          "histogram2d": [
           {
            "colorbar": {
             "outlinewidth": 0,
             "ticks": ""
            },
            "colorscale": [
             [
              0,
              "#0d0887"
             ],
             [
              0.1111111111111111,
              "#46039f"
             ],
             [
              0.2222222222222222,
              "#7201a8"
             ],
             [
              0.3333333333333333,
              "#9c179e"
             ],
             [
              0.4444444444444444,
              "#bd3786"
             ],
             [
              0.5555555555555556,
              "#d8576b"
             ],
             [
              0.6666666666666666,
              "#ed7953"
             ],
             [
              0.7777777777777778,
              "#fb9f3a"
             ],
             [
              0.8888888888888888,
              "#fdca26"
             ],
             [
              1,
              "#f0f921"
             ]
            ],
            "type": "histogram2d"
           }
          ],
          "histogram2dcontour": [
           {
            "colorbar": {
             "outlinewidth": 0,
             "ticks": ""
            },
            "colorscale": [
             [
              0,
              "#0d0887"
             ],
             [
              0.1111111111111111,
              "#46039f"
             ],
             [
              0.2222222222222222,
              "#7201a8"
             ],
             [
              0.3333333333333333,
              "#9c179e"
             ],
             [
              0.4444444444444444,
              "#bd3786"
             ],
             [
              0.5555555555555556,
              "#d8576b"
             ],
             [
              0.6666666666666666,
              "#ed7953"
             ],
             [
              0.7777777777777778,
              "#fb9f3a"
             ],
             [
              0.8888888888888888,
              "#fdca26"
             ],
             [
              1,
              "#f0f921"
             ]
            ],
            "type": "histogram2dcontour"
           }
          ],
          "mesh3d": [
           {
            "colorbar": {
             "outlinewidth": 0,
             "ticks": ""
            },
            "type": "mesh3d"
           }
          ],
          "parcoords": [
           {
            "line": {
             "colorbar": {
              "outlinewidth": 0,
              "ticks": ""
             }
            },
            "type": "parcoords"
           }
          ],
          "pie": [
           {
            "automargin": true,
            "type": "pie"
           }
          ],
          "scatter": [
           {
            "fillpattern": {
             "fillmode": "overlay",
             "size": 10,
             "solidity": 0.2
            },
            "type": "scatter"
           }
          ],
          "scatter3d": [
           {
            "line": {
             "colorbar": {
              "outlinewidth": 0,
              "ticks": ""
             }
            },
            "marker": {
             "colorbar": {
              "outlinewidth": 0,
              "ticks": ""
             }
            },
            "type": "scatter3d"
           }
          ],
          "scattercarpet": [
           {
            "marker": {
             "colorbar": {
              "outlinewidth": 0,
              "ticks": ""
             }
            },
            "type": "scattercarpet"
           }
          ],
          "scattergeo": [
           {
            "marker": {
             "colorbar": {
              "outlinewidth": 0,
              "ticks": ""
             }
            },
            "type": "scattergeo"
           }
          ],
          "scattergl": [
           {
            "marker": {
             "colorbar": {
              "outlinewidth": 0,
              "ticks": ""
             }
            },
            "type": "scattergl"
           }
          ],
          "scattermapbox": [
           {
            "marker": {
             "colorbar": {
              "outlinewidth": 0,
              "ticks": ""
             }
            },
            "type": "scattermapbox"
           }
          ],
          "scatterpolar": [
           {
            "marker": {
             "colorbar": {
              "outlinewidth": 0,
              "ticks": ""
             }
            },
            "type": "scatterpolar"
           }
          ],
          "scatterpolargl": [
           {
            "marker": {
             "colorbar": {
              "outlinewidth": 0,
              "ticks": ""
             }
            },
            "type": "scatterpolargl"
           }
          ],
          "scatterternary": [
           {
            "marker": {
             "colorbar": {
              "outlinewidth": 0,
              "ticks": ""
             }
            },
            "type": "scatterternary"
           }
          ],
          "surface": [
           {
            "colorbar": {
             "outlinewidth": 0,
             "ticks": ""
            },
            "colorscale": [
             [
              0,
              "#0d0887"
             ],
             [
              0.1111111111111111,
              "#46039f"
             ],
             [
              0.2222222222222222,
              "#7201a8"
             ],
             [
              0.3333333333333333,
              "#9c179e"
             ],
             [
              0.4444444444444444,
              "#bd3786"
             ],
             [
              0.5555555555555556,
              "#d8576b"
             ],
             [
              0.6666666666666666,
              "#ed7953"
             ],
             [
              0.7777777777777778,
              "#fb9f3a"
             ],
             [
              0.8888888888888888,
              "#fdca26"
             ],
             [
              1,
              "#f0f921"
             ]
            ],
            "type": "surface"
           }
          ],
          "table": [
           {
            "cells": {
             "fill": {
              "color": "#EBF0F8"
             },
             "line": {
              "color": "white"
             }
            },
            "header": {
             "fill": {
              "color": "#C8D4E3"
             },
             "line": {
              "color": "white"
             }
            },
            "type": "table"
           }
          ]
         },
         "layout": {
          "annotationdefaults": {
           "arrowcolor": "#2a3f5f",
           "arrowhead": 0,
           "arrowwidth": 1
          },
          "autotypenumbers": "strict",
          "coloraxis": {
           "colorbar": {
            "outlinewidth": 0,
            "ticks": ""
           }
          },
          "colorscale": {
           "diverging": [
            [
             0,
             "#8e0152"
            ],
            [
             0.1,
             "#c51b7d"
            ],
            [
             0.2,
             "#de77ae"
            ],
            [
             0.3,
             "#f1b6da"
            ],
            [
             0.4,
             "#fde0ef"
            ],
            [
             0.5,
             "#f7f7f7"
            ],
            [
             0.6,
             "#e6f5d0"
            ],
            [
             0.7,
             "#b8e186"
            ],
            [
             0.8,
             "#7fbc41"
            ],
            [
             0.9,
             "#4d9221"
            ],
            [
             1,
             "#276419"
            ]
           ],
           "sequential": [
            [
             0,
             "#0d0887"
            ],
            [
             0.1111111111111111,
             "#46039f"
            ],
            [
             0.2222222222222222,
             "#7201a8"
            ],
            [
             0.3333333333333333,
             "#9c179e"
            ],
            [
             0.4444444444444444,
             "#bd3786"
            ],
            [
             0.5555555555555556,
             "#d8576b"
            ],
            [
             0.6666666666666666,
             "#ed7953"
            ],
            [
             0.7777777777777778,
             "#fb9f3a"
            ],
            [
             0.8888888888888888,
             "#fdca26"
            ],
            [
             1,
             "#f0f921"
            ]
           ],
           "sequentialminus": [
            [
             0,
             "#0d0887"
            ],
            [
             0.1111111111111111,
             "#46039f"
            ],
            [
             0.2222222222222222,
             "#7201a8"
            ],
            [
             0.3333333333333333,
             "#9c179e"
            ],
            [
             0.4444444444444444,
             "#bd3786"
            ],
            [
             0.5555555555555556,
             "#d8576b"
            ],
            [
             0.6666666666666666,
             "#ed7953"
            ],
            [
             0.7777777777777778,
             "#fb9f3a"
            ],
            [
             0.8888888888888888,
             "#fdca26"
            ],
            [
             1,
             "#f0f921"
            ]
           ]
          },
          "colorway": [
           "#636efa",
           "#EF553B",
           "#00cc96",
           "#ab63fa",
           "#FFA15A",
           "#19d3f3",
           "#FF6692",
           "#B6E880",
           "#FF97FF",
           "#FECB52"
          ],
          "font": {
           "color": "#2a3f5f"
          },
          "geo": {
           "bgcolor": "white",
           "lakecolor": "white",
           "landcolor": "#E5ECF6",
           "showlakes": true,
           "showland": true,
           "subunitcolor": "white"
          },
          "hoverlabel": {
           "align": "left"
          },
          "hovermode": "closest",
          "mapbox": {
           "style": "light"
          },
          "paper_bgcolor": "white",
          "plot_bgcolor": "#E5ECF6",
          "polar": {
           "angularaxis": {
            "gridcolor": "white",
            "linecolor": "white",
            "ticks": ""
           },
           "bgcolor": "#E5ECF6",
           "radialaxis": {
            "gridcolor": "white",
            "linecolor": "white",
            "ticks": ""
           }
          },
          "scene": {
           "xaxis": {
            "backgroundcolor": "#E5ECF6",
            "gridcolor": "white",
            "gridwidth": 2,
            "linecolor": "white",
            "showbackground": true,
            "ticks": "",
            "zerolinecolor": "white"
           },
           "yaxis": {
            "backgroundcolor": "#E5ECF6",
            "gridcolor": "white",
            "gridwidth": 2,
            "linecolor": "white",
            "showbackground": true,
            "ticks": "",
            "zerolinecolor": "white"
           },
           "zaxis": {
            "backgroundcolor": "#E5ECF6",
            "gridcolor": "white",
            "gridwidth": 2,
            "linecolor": "white",
            "showbackground": true,
            "ticks": "",
            "zerolinecolor": "white"
           }
          },
          "shapedefaults": {
           "line": {
            "color": "#2a3f5f"
           }
          },
          "ternary": {
           "aaxis": {
            "gridcolor": "white",
            "linecolor": "white",
            "ticks": ""
           },
           "baxis": {
            "gridcolor": "white",
            "linecolor": "white",
            "ticks": ""
           },
           "bgcolor": "#E5ECF6",
           "caxis": {
            "gridcolor": "white",
            "linecolor": "white",
            "ticks": ""
           }
          },
          "title": {
           "x": 0.05
          },
          "xaxis": {
           "automargin": true,
           "gridcolor": "white",
           "linecolor": "white",
           "ticks": "",
           "title": {
            "standoff": 15
           },
           "zerolinecolor": "white",
           "zerolinewidth": 2
          },
          "yaxis": {
           "automargin": true,
           "gridcolor": "white",
           "linecolor": "white",
           "ticks": "",
           "title": {
            "standoff": 15
           },
           "zerolinecolor": "white",
           "zerolinewidth": 2
          }
         }
        },
        "title": {
         "text": "Brand Usage"
        },
        "xaxis": {
         "anchor": "y",
         "domain": [
          0,
          1
         ],
         "title": {
          "text": "brand"
         }
        },
        "yaxis": {
         "anchor": "x",
         "domain": [
          0,
          1
         ],
         "title": {
          "text": "brands_count"
         }
        }
       }
      },
      "text/html": [
       "<div>                            <div id=\"f6c540dc-087a-4d73-949a-f383924ac12e\" class=\"plotly-graph-div\" style=\"height:525px; width:100%;\"></div>            <script type=\"text/javascript\">                require([\"plotly\"], function(Plotly) {                    window.PLOTLYENV=window.PLOTLYENV || {};                                    if (document.getElementById(\"f6c540dc-087a-4d73-949a-f383924ac12e\")) {                    Plotly.newPlot(                        \"f6c540dc-087a-4d73-949a-f383924ac12e\",                        [{\"alignmentgroup\":\"True\",\"hovertemplate\":\"brand=%{x}<br>brands_count=%{y}<extra></extra>\",\"legendgroup\":\"\",\"marker\":{\"color\":\"#636efa\",\"pattern\":{\"shape\":\"\"}},\"name\":\"\",\"offsetgroup\":\"\",\"orientation\":\"v\",\"showlegend\":false,\"textposition\":\"auto\",\"x\":[\"Allure Auto\",\"Regular\",\"Voylla\",\"Slim\",\"TheLostPuppy\",\"Karatcraft\",\"Black\",\"White\",\"DailyObjects\",\"Speedwav\"],\"xaxis\":\"x\",\"y\":[468,308,299,284,229,211,167,155,144,141],\"yaxis\":\"y\",\"type\":\"bar\"}],                        {\"template\":{\"data\":{\"histogram2dcontour\":[{\"type\":\"histogram2dcontour\",\"colorbar\":{\"outlinewidth\":0,\"ticks\":\"\"},\"colorscale\":[[0.0,\"#0d0887\"],[0.1111111111111111,\"#46039f\"],[0.2222222222222222,\"#7201a8\"],[0.3333333333333333,\"#9c179e\"],[0.4444444444444444,\"#bd3786\"],[0.5555555555555556,\"#d8576b\"],[0.6666666666666666,\"#ed7953\"],[0.7777777777777778,\"#fb9f3a\"],[0.8888888888888888,\"#fdca26\"],[1.0,\"#f0f921\"]]}],\"choropleth\":[{\"type\":\"choropleth\",\"colorbar\":{\"outlinewidth\":0,\"ticks\":\"\"}}],\"histogram2d\":[{\"type\":\"histogram2d\",\"colorbar\":{\"outlinewidth\":0,\"ticks\":\"\"},\"colorscale\":[[0.0,\"#0d0887\"],[0.1111111111111111,\"#46039f\"],[0.2222222222222222,\"#7201a8\"],[0.3333333333333333,\"#9c179e\"],[0.4444444444444444,\"#bd3786\"],[0.5555555555555556,\"#d8576b\"],[0.6666666666666666,\"#ed7953\"],[0.7777777777777778,\"#fb9f3a\"],[0.8888888888888888,\"#fdca26\"],[1.0,\"#f0f921\"]]}],\"heatmap\":[{\"type\":\"heatmap\",\"colorbar\":{\"outlinewidth\":0,\"ticks\":\"\"},\"colorscale\":[[0.0,\"#0d0887\"],[0.1111111111111111,\"#46039f\"],[0.2222222222222222,\"#7201a8\"],[0.3333333333333333,\"#9c179e\"],[0.4444444444444444,\"#bd3786\"],[0.5555555555555556,\"#d8576b\"],[0.6666666666666666,\"#ed7953\"],[0.7777777777777778,\"#fb9f3a\"],[0.8888888888888888,\"#fdca26\"],[1.0,\"#f0f921\"]]}],\"heatmapgl\":[{\"type\":\"heatmapgl\",\"colorbar\":{\"outlinewidth\":0,\"ticks\":\"\"},\"colorscale\":[[0.0,\"#0d0887\"],[0.1111111111111111,\"#46039f\"],[0.2222222222222222,\"#7201a8\"],[0.3333333333333333,\"#9c179e\"],[0.4444444444444444,\"#bd3786\"],[0.5555555555555556,\"#d8576b\"],[0.6666666666666666,\"#ed7953\"],[0.7777777777777778,\"#fb9f3a\"],[0.8888888888888888,\"#fdca26\"],[1.0,\"#f0f921\"]]}],\"contourcarpet\":[{\"type\":\"contourcarpet\",\"colorbar\":{\"outlinewidth\":0,\"ticks\":\"\"}}],\"contour\":[{\"type\":\"contour\",\"colorbar\":{\"outlinewidth\":0,\"ticks\":\"\"},\"colorscale\":[[0.0,\"#0d0887\"],[0.1111111111111111,\"#46039f\"],[0.2222222222222222,\"#7201a8\"],[0.3333333333333333,\"#9c179e\"],[0.4444444444444444,\"#bd3786\"],[0.5555555555555556,\"#d8576b\"],[0.6666666666666666,\"#ed7953\"],[0.7777777777777778,\"#fb9f3a\"],[0.8888888888888888,\"#fdca26\"],[1.0,\"#f0f921\"]]}],\"surface\":[{\"type\":\"surface\",\"colorbar\":{\"outlinewidth\":0,\"ticks\":\"\"},\"colorscale\":[[0.0,\"#0d0887\"],[0.1111111111111111,\"#46039f\"],[0.2222222222222222,\"#7201a8\"],[0.3333333333333333,\"#9c179e\"],[0.4444444444444444,\"#bd3786\"],[0.5555555555555556,\"#d8576b\"],[0.6666666666666666,\"#ed7953\"],[0.7777777777777778,\"#fb9f3a\"],[0.8888888888888888,\"#fdca26\"],[1.0,\"#f0f921\"]]}],\"mesh3d\":[{\"type\":\"mesh3d\",\"colorbar\":{\"outlinewidth\":0,\"ticks\":\"\"}}],\"scatter\":[{\"fillpattern\":{\"fillmode\":\"overlay\",\"size\":10,\"solidity\":0.2},\"type\":\"scatter\"}],\"parcoords\":[{\"type\":\"parcoords\",\"line\":{\"colorbar\":{\"outlinewidth\":0,\"ticks\":\"\"}}}],\"scatterpolargl\":[{\"type\":\"scatterpolargl\",\"marker\":{\"colorbar\":{\"outlinewidth\":0,\"ticks\":\"\"}}}],\"bar\":[{\"error_x\":{\"color\":\"#2a3f5f\"},\"error_y\":{\"color\":\"#2a3f5f\"},\"marker\":{\"line\":{\"color\":\"#E5ECF6\",\"width\":0.5},\"pattern\":{\"fillmode\":\"overlay\",\"size\":10,\"solidity\":0.2}},\"type\":\"bar\"}],\"scattergeo\":[{\"type\":\"scattergeo\",\"marker\":{\"colorbar\":{\"outlinewidth\":0,\"ticks\":\"\"}}}],\"scatterpolar\":[{\"type\":\"scatterpolar\",\"marker\":{\"colorbar\":{\"outlinewidth\":0,\"ticks\":\"\"}}}],\"histogram\":[{\"marker\":{\"pattern\":{\"fillmode\":\"overlay\",\"size\":10,\"solidity\":0.2}},\"type\":\"histogram\"}],\"scattergl\":[{\"type\":\"scattergl\",\"marker\":{\"colorbar\":{\"outlinewidth\":0,\"ticks\":\"\"}}}],\"scatter3d\":[{\"type\":\"scatter3d\",\"line\":{\"colorbar\":{\"outlinewidth\":0,\"ticks\":\"\"}},\"marker\":{\"colorbar\":{\"outlinewidth\":0,\"ticks\":\"\"}}}],\"scattermapbox\":[{\"type\":\"scattermapbox\",\"marker\":{\"colorbar\":{\"outlinewidth\":0,\"ticks\":\"\"}}}],\"scatterternary\":[{\"type\":\"scatterternary\",\"marker\":{\"colorbar\":{\"outlinewidth\":0,\"ticks\":\"\"}}}],\"scattercarpet\":[{\"type\":\"scattercarpet\",\"marker\":{\"colorbar\":{\"outlinewidth\":0,\"ticks\":\"\"}}}],\"carpet\":[{\"aaxis\":{\"endlinecolor\":\"#2a3f5f\",\"gridcolor\":\"white\",\"linecolor\":\"white\",\"minorgridcolor\":\"white\",\"startlinecolor\":\"#2a3f5f\"},\"baxis\":{\"endlinecolor\":\"#2a3f5f\",\"gridcolor\":\"white\",\"linecolor\":\"white\",\"minorgridcolor\":\"white\",\"startlinecolor\":\"#2a3f5f\"},\"type\":\"carpet\"}],\"table\":[{\"cells\":{\"fill\":{\"color\":\"#EBF0F8\"},\"line\":{\"color\":\"white\"}},\"header\":{\"fill\":{\"color\":\"#C8D4E3\"},\"line\":{\"color\":\"white\"}},\"type\":\"table\"}],\"barpolar\":[{\"marker\":{\"line\":{\"color\":\"#E5ECF6\",\"width\":0.5},\"pattern\":{\"fillmode\":\"overlay\",\"size\":10,\"solidity\":0.2}},\"type\":\"barpolar\"}],\"pie\":[{\"automargin\":true,\"type\":\"pie\"}]},\"layout\":{\"autotypenumbers\":\"strict\",\"colorway\":[\"#636efa\",\"#EF553B\",\"#00cc96\",\"#ab63fa\",\"#FFA15A\",\"#19d3f3\",\"#FF6692\",\"#B6E880\",\"#FF97FF\",\"#FECB52\"],\"font\":{\"color\":\"#2a3f5f\"},\"hovermode\":\"closest\",\"hoverlabel\":{\"align\":\"left\"},\"paper_bgcolor\":\"white\",\"plot_bgcolor\":\"#E5ECF6\",\"polar\":{\"bgcolor\":\"#E5ECF6\",\"angularaxis\":{\"gridcolor\":\"white\",\"linecolor\":\"white\",\"ticks\":\"\"},\"radialaxis\":{\"gridcolor\":\"white\",\"linecolor\":\"white\",\"ticks\":\"\"}},\"ternary\":{\"bgcolor\":\"#E5ECF6\",\"aaxis\":{\"gridcolor\":\"white\",\"linecolor\":\"white\",\"ticks\":\"\"},\"baxis\":{\"gridcolor\":\"white\",\"linecolor\":\"white\",\"ticks\":\"\"},\"caxis\":{\"gridcolor\":\"white\",\"linecolor\":\"white\",\"ticks\":\"\"}},\"coloraxis\":{\"colorbar\":{\"outlinewidth\":0,\"ticks\":\"\"}},\"colorscale\":{\"sequential\":[[0.0,\"#0d0887\"],[0.1111111111111111,\"#46039f\"],[0.2222222222222222,\"#7201a8\"],[0.3333333333333333,\"#9c179e\"],[0.4444444444444444,\"#bd3786\"],[0.5555555555555556,\"#d8576b\"],[0.6666666666666666,\"#ed7953\"],[0.7777777777777778,\"#fb9f3a\"],[0.8888888888888888,\"#fdca26\"],[1.0,\"#f0f921\"]],\"sequentialminus\":[[0.0,\"#0d0887\"],[0.1111111111111111,\"#46039f\"],[0.2222222222222222,\"#7201a8\"],[0.3333333333333333,\"#9c179e\"],[0.4444444444444444,\"#bd3786\"],[0.5555555555555556,\"#d8576b\"],[0.6666666666666666,\"#ed7953\"],[0.7777777777777778,\"#fb9f3a\"],[0.8888888888888888,\"#fdca26\"],[1.0,\"#f0f921\"]],\"diverging\":[[0,\"#8e0152\"],[0.1,\"#c51b7d\"],[0.2,\"#de77ae\"],[0.3,\"#f1b6da\"],[0.4,\"#fde0ef\"],[0.5,\"#f7f7f7\"],[0.6,\"#e6f5d0\"],[0.7,\"#b8e186\"],[0.8,\"#7fbc41\"],[0.9,\"#4d9221\"],[1,\"#276419\"]]},\"xaxis\":{\"gridcolor\":\"white\",\"linecolor\":\"white\",\"ticks\":\"\",\"title\":{\"standoff\":15},\"zerolinecolor\":\"white\",\"automargin\":true,\"zerolinewidth\":2},\"yaxis\":{\"gridcolor\":\"white\",\"linecolor\":\"white\",\"ticks\":\"\",\"title\":{\"standoff\":15},\"zerolinecolor\":\"white\",\"automargin\":true,\"zerolinewidth\":2},\"scene\":{\"xaxis\":{\"backgroundcolor\":\"#E5ECF6\",\"gridcolor\":\"white\",\"linecolor\":\"white\",\"showbackground\":true,\"ticks\":\"\",\"zerolinecolor\":\"white\",\"gridwidth\":2},\"yaxis\":{\"backgroundcolor\":\"#E5ECF6\",\"gridcolor\":\"white\",\"linecolor\":\"white\",\"showbackground\":true,\"ticks\":\"\",\"zerolinecolor\":\"white\",\"gridwidth\":2},\"zaxis\":{\"backgroundcolor\":\"#E5ECF6\",\"gridcolor\":\"white\",\"linecolor\":\"white\",\"showbackground\":true,\"ticks\":\"\",\"zerolinecolor\":\"white\",\"gridwidth\":2}},\"shapedefaults\":{\"line\":{\"color\":\"#2a3f5f\"}},\"annotationdefaults\":{\"arrowcolor\":\"#2a3f5f\",\"arrowhead\":0,\"arrowwidth\":1},\"geo\":{\"bgcolor\":\"white\",\"landcolor\":\"#E5ECF6\",\"subunitcolor\":\"white\",\"showland\":true,\"showlakes\":true,\"lakecolor\":\"white\"},\"title\":{\"x\":0.05},\"mapbox\":{\"style\":\"light\"}}},\"xaxis\":{\"anchor\":\"y\",\"domain\":[0.0,1.0],\"title\":{\"text\":\"brand\"}},\"yaxis\":{\"anchor\":\"x\",\"domain\":[0.0,1.0],\"title\":{\"text\":\"brands_count\"}},\"legend\":{\"tracegroupgap\":0},\"title\":{\"text\":\"Brand Usage\"},\"barmode\":\"relative\"},                        {\"responsive\": true}                    ).then(function(){\n",
       "                            \n",
       "var gd = document.getElementById('f6c540dc-087a-4d73-949a-f383924ac12e');\n",
       "var x = new MutationObserver(function (mutations, observer) {{\n",
       "        var display = window.getComputedStyle(gd).display;\n",
       "        if (!display || display === 'none') {{\n",
       "            console.log([gd, 'removed!']);\n",
       "            Plotly.purge(gd);\n",
       "            observer.disconnect();\n",
       "        }}\n",
       "}});\n",
       "\n",
       "// Listen for the removal of the full notebook cells\n",
       "var notebookContainer = gd.closest('#notebook-container');\n",
       "if (notebookContainer) {{\n",
       "    x.observe(notebookContainer, {childList: true});\n",
       "}}\n",
       "\n",
       "// Listen for the clearing of the current output cell\n",
       "var outputEl = gd.closest('.output');\n",
       "if (outputEl) {{\n",
       "    x.observe(outputEl, {childList: true});\n",
       "}}\n",
       "\n",
       "                        })                };                });            </script>        </div>"
      ]
     },
     "metadata": {},
     "output_type": "display_data"
    }
   ],
   "source": [
    "#here creating chart for top 10 in plotly\n",
    "\n",
    "ex.bar(brand_top_10, 'brand', 'brands_count', title='Brand Usage')"
   ]
  },
  {
   "cell_type": "code",
   "execution_count": 66,
   "id": "d17b4b42",
   "metadata": {},
   "outputs": [],
   "source": [
    "#also, i can convert the brand \tis_FK_Advantage_product into 1s and 0s for machine learning algorithms for classification task\n",
    "# 1 for True and 0 for False\n",
    "\n",
    "\n",
    "df['is_FK_Advantage_product_numbers'] = df['is_FK_Advantage_product'].apply(lambda x: 1 if x == True else 0)"
   ]
  },
  {
   "cell_type": "code",
   "execution_count": 67,
   "id": "cc85616d",
   "metadata": {},
   "outputs": [
    {
     "data": {
      "text/html": [
       "<div>\n",
       "<style scoped>\n",
       "    .dataframe tbody tr th:only-of-type {\n",
       "        vertical-align: middle;\n",
       "    }\n",
       "\n",
       "    .dataframe tbody tr th {\n",
       "        vertical-align: top;\n",
       "    }\n",
       "\n",
       "    .dataframe thead th {\n",
       "        text-align: right;\n",
       "    }\n",
       "</style>\n",
       "<table border=\"1\" class=\"dataframe\">\n",
       "  <thead>\n",
       "    <tr style=\"text-align: right;\">\n",
       "      <th></th>\n",
       "      <th>uniq_id</th>\n",
       "      <th>crawl_timestamp</th>\n",
       "      <th>product_url</th>\n",
       "      <th>product_name</th>\n",
       "      <th>product_category_tree</th>\n",
       "      <th>pid</th>\n",
       "      <th>retail_price</th>\n",
       "      <th>discounted_price</th>\n",
       "      <th>image</th>\n",
       "      <th>is_FK_Advantage_product</th>\n",
       "      <th>description</th>\n",
       "      <th>product_rating</th>\n",
       "      <th>overall_rating</th>\n",
       "      <th>brand</th>\n",
       "      <th>product_specifications</th>\n",
       "      <th>crawl_timestamp_year</th>\n",
       "      <th>crawl_timestamp_month</th>\n",
       "      <th>crawl_timestamp_weekday</th>\n",
       "      <th>crawl_timestamp_hour</th>\n",
       "      <th>is_FK_Advantage_product_numbers</th>\n",
       "    </tr>\n",
       "  </thead>\n",
       "  <tbody>\n",
       "    <tr>\n",
       "      <th>0</th>\n",
       "      <td>c2d766ca982eca8304150849735ffef9</td>\n",
       "      <td>2016-03-25 22:59:23+00:00</td>\n",
       "      <td>http://www.flipkart.com/alisha-solid-women-s-c...</td>\n",
       "      <td>Alisha Solid Women's Cycling Shorts</td>\n",
       "      <td>[\"Clothing &gt;&gt; Women's Clothing &gt;&gt; Lingerie, Sl...</td>\n",
       "      <td>SRTEH2FF9KEDEFGF</td>\n",
       "      <td>999.0</td>\n",
       "      <td>379.0</td>\n",
       "      <td>[\"http://img5a.flixcart.com/image/short/u/4/a/...</td>\n",
       "      <td>False</td>\n",
       "      <td>Key Features of Alisha Solid Women's Cycling S...</td>\n",
       "      <td>No rating available</td>\n",
       "      <td>No rating available</td>\n",
       "      <td>Alisha</td>\n",
       "      <td>{\"product_specification\"=&gt;[{\"key\"=&gt;\"Number of ...</td>\n",
       "      <td>2016</td>\n",
       "      <td>3</td>\n",
       "      <td>4</td>\n",
       "      <td>22</td>\n",
       "      <td>0</td>\n",
       "    </tr>\n",
       "    <tr>\n",
       "      <th>1</th>\n",
       "      <td>7f7036a6d550aaa89d34c77bd39a5e48</td>\n",
       "      <td>2016-03-25 22:59:23+00:00</td>\n",
       "      <td>http://www.flipkart.com/fabhomedecor-fabric-do...</td>\n",
       "      <td>FabHomeDecor Fabric Double Sofa Bed</td>\n",
       "      <td>[\"Furniture &gt;&gt; Living Room Furniture &gt;&gt; Sofa B...</td>\n",
       "      <td>SBEEH3QGU7MFYJFY</td>\n",
       "      <td>32157.0</td>\n",
       "      <td>22646.0</td>\n",
       "      <td>[\"http://img6a.flixcart.com/image/sofa-bed/j/f...</td>\n",
       "      <td>False</td>\n",
       "      <td>FabHomeDecor Fabric Double Sofa Bed (Finish Co...</td>\n",
       "      <td>No rating available</td>\n",
       "      <td>No rating available</td>\n",
       "      <td>FabHomeDecor</td>\n",
       "      <td>{\"product_specification\"=&gt;[{\"key\"=&gt;\"Installati...</td>\n",
       "      <td>2016</td>\n",
       "      <td>3</td>\n",
       "      <td>4</td>\n",
       "      <td>22</td>\n",
       "      <td>0</td>\n",
       "    </tr>\n",
       "  </tbody>\n",
       "</table>\n",
       "</div>"
      ],
      "text/plain": [
       "                            uniq_id           crawl_timestamp  \\\n",
       "0  c2d766ca982eca8304150849735ffef9 2016-03-25 22:59:23+00:00   \n",
       "1  7f7036a6d550aaa89d34c77bd39a5e48 2016-03-25 22:59:23+00:00   \n",
       "\n",
       "                                         product_url  \\\n",
       "0  http://www.flipkart.com/alisha-solid-women-s-c...   \n",
       "1  http://www.flipkart.com/fabhomedecor-fabric-do...   \n",
       "\n",
       "                          product_name  \\\n",
       "0  Alisha Solid Women's Cycling Shorts   \n",
       "1  FabHomeDecor Fabric Double Sofa Bed   \n",
       "\n",
       "                               product_category_tree               pid  \\\n",
       "0  [\"Clothing >> Women's Clothing >> Lingerie, Sl...  SRTEH2FF9KEDEFGF   \n",
       "1  [\"Furniture >> Living Room Furniture >> Sofa B...  SBEEH3QGU7MFYJFY   \n",
       "\n",
       "   retail_price  discounted_price  \\\n",
       "0         999.0             379.0   \n",
       "1       32157.0           22646.0   \n",
       "\n",
       "                                               image  is_FK_Advantage_product  \\\n",
       "0  [\"http://img5a.flixcart.com/image/short/u/4/a/...                    False   \n",
       "1  [\"http://img6a.flixcart.com/image/sofa-bed/j/f...                    False   \n",
       "\n",
       "                                         description       product_rating  \\\n",
       "0  Key Features of Alisha Solid Women's Cycling S...  No rating available   \n",
       "1  FabHomeDecor Fabric Double Sofa Bed (Finish Co...  No rating available   \n",
       "\n",
       "        overall_rating         brand  \\\n",
       "0  No rating available        Alisha   \n",
       "1  No rating available  FabHomeDecor   \n",
       "\n",
       "                              product_specifications  crawl_timestamp_year  \\\n",
       "0  {\"product_specification\"=>[{\"key\"=>\"Number of ...                  2016   \n",
       "1  {\"product_specification\"=>[{\"key\"=>\"Installati...                  2016   \n",
       "\n",
       "   crawl_timestamp_month  crawl_timestamp_weekday  crawl_timestamp_hour  \\\n",
       "0                      3                        4                    22   \n",
       "1                      3                        4                    22   \n",
       "\n",
       "   is_FK_Advantage_product_numbers  \n",
       "0                                0  \n",
       "1                                0  "
      ]
     },
     "execution_count": 67,
     "metadata": {},
     "output_type": "execute_result"
    }
   ],
   "source": [
    "df.head(2)"
   ]
  },
  {
   "cell_type": "code",
   "execution_count": 71,
   "id": "c812f477",
   "metadata": {
    "scrolled": true
   },
   "outputs": [
    {
     "data": {
      "text/plain": [
       "array(['No rating available', '5', '3.6', '3', '4', '2.4', '3.3', '1',\n",
       "       '3.8', '3.2', '3.5', '3.7', '2.3', '2', '3.9', '2.5', '2.7', '4.5',\n",
       "       '4.7', '4.1', '4.4', '4.3', '3.4', '4.6', '4.2', '1.5', '2.8',\n",
       "       '2.9', '4.9', '4.8', '2.2', '1.3', '1.7', '1.8', '3.1', '2.6'],\n",
       "      dtype=object)"
      ]
     },
     "execution_count": 71,
     "metadata": {},
     "output_type": "execute_result"
    }
   ],
   "source": [
    "df['product_rating'].unique()"
   ]
  },
  {
   "cell_type": "code",
   "execution_count": 72,
   "id": "a7df2872",
   "metadata": {},
   "outputs": [
    {
     "data": {
      "text/plain": [
       "36"
      ]
     },
     "execution_count": 72,
     "metadata": {},
     "output_type": "execute_result"
    }
   ],
   "source": [
    "df['product_rating'].nunique()"
   ]
  },
  {
   "cell_type": "code",
   "execution_count": 80,
   "id": "6e3baf30",
   "metadata": {},
   "outputs": [
    {
     "data": {
      "text/plain": [
       "13140"
      ]
     },
     "execution_count": 80,
     "metadata": {},
     "output_type": "execute_result"
    }
   ],
   "source": [
    "#let count number of 'No rating avaiable'\n",
    "\n",
    "len(df[df['product_rating'] == 'No rating available'])"
   ]
  },
  {
   "cell_type": "code",
   "execution_count": 81,
   "id": "8135ec3a",
   "metadata": {},
   "outputs": [],
   "source": [
    "#the product rating has 36 different value in it. The 'No rating available' will be convert to 0\n",
    "#which can be analysis, to know why customer decided not give review or making the process easier\n",
    "#I will convert the rating into range for instance (0 for No rating available, >= 1-2 for 'fair', > 2-3 for 'good', \n",
    "# < 3-4, for 'very good', > 4 for 'excellent')\n"
   ]
  },
  {
   "cell_type": "code",
   "execution_count": 82,
   "id": "a775d45f",
   "metadata": {},
   "outputs": [
    {
     "name": "stdout",
     "output_type": "stream",
     "text": [
      "<class 'pandas.core.frame.DataFrame'>\n",
      "Index: 14058 entries, 0 to 19999\n",
      "Data columns (total 20 columns):\n",
      " #   Column                           Non-Null Count  Dtype              \n",
      "---  ------                           --------------  -----              \n",
      " 0   uniq_id                          14058 non-null  object             \n",
      " 1   crawl_timestamp                  14058 non-null  datetime64[ns, UTC]\n",
      " 2   product_url                      14058 non-null  object             \n",
      " 3   product_name                     14058 non-null  object             \n",
      " 4   product_category_tree            14058 non-null  object             \n",
      " 5   pid                              14058 non-null  object             \n",
      " 6   retail_price                     14058 non-null  float64            \n",
      " 7   discounted_price                 14058 non-null  float64            \n",
      " 8   image                            14058 non-null  object             \n",
      " 9   is_FK_Advantage_product          14058 non-null  bool               \n",
      " 10  description                      14058 non-null  object             \n",
      " 11  product_rating                   14058 non-null  object             \n",
      " 12  overall_rating                   14058 non-null  object             \n",
      " 13  brand                            14058 non-null  object             \n",
      " 14  product_specifications           14058 non-null  object             \n",
      " 15  crawl_timestamp_year             14058 non-null  int32              \n",
      " 16  crawl_timestamp_month            14058 non-null  int32              \n",
      " 17  crawl_timestamp_weekday          14058 non-null  int32              \n",
      " 18  crawl_timestamp_hour             14058 non-null  int32              \n",
      " 19  is_FK_Advantage_product_numbers  14058 non-null  int64              \n",
      "dtypes: bool(1), datetime64[ns, UTC](1), float64(2), int32(4), int64(1), object(11)\n",
      "memory usage: 2.4+ MB\n"
     ]
    }
   ],
   "source": [
    "#lets convert the product rating and overall rating into numerical data before put them into range for easy analysis\n",
    "\n",
    "df.info()"
   ]
  },
  {
   "cell_type": "code",
   "execution_count": 105,
   "id": "5e43ba24",
   "metadata": {},
   "outputs": [],
   "source": [
    "#first let convert 'No rating available to zero' or remove it\n",
    "#but am converting to zero\n",
    "\n",
    "#convert only \"No rating available\" to zero \"0\"\n",
    "df['product_rating_Not'] = df['product_rating'].apply(lambda x: 0 if x == \"No rating available\" else x)\n",
    "\n",
    "\n"
   ]
  },
  {
   "cell_type": "code",
   "execution_count": 106,
   "id": "d75e191d",
   "metadata": {},
   "outputs": [
    {
     "name": "stdout",
     "output_type": "stream",
     "text": [
      "<class 'pandas.core.frame.DataFrame'>\n",
      "Index: 14058 entries, 0 to 19999\n",
      "Data columns (total 21 columns):\n",
      " #   Column                           Non-Null Count  Dtype              \n",
      "---  ------                           --------------  -----              \n",
      " 0   uniq_id                          14058 non-null  object             \n",
      " 1   crawl_timestamp                  14058 non-null  datetime64[ns, UTC]\n",
      " 2   product_url                      14058 non-null  object             \n",
      " 3   product_name                     14058 non-null  object             \n",
      " 4   product_category_tree            14058 non-null  object             \n",
      " 5   pid                              14058 non-null  object             \n",
      " 6   retail_price                     14058 non-null  float64            \n",
      " 7   discounted_price                 14058 non-null  float64            \n",
      " 8   image                            14058 non-null  object             \n",
      " 9   is_FK_Advantage_product          14058 non-null  bool               \n",
      " 10  description                      14058 non-null  object             \n",
      " 11  product_rating                   14058 non-null  object             \n",
      " 12  overall_rating                   14058 non-null  object             \n",
      " 13  brand                            14058 non-null  object             \n",
      " 14  product_specifications           14058 non-null  object             \n",
      " 15  crawl_timestamp_year             14058 non-null  int32              \n",
      " 16  crawl_timestamp_month            14058 non-null  int32              \n",
      " 17  crawl_timestamp_weekday          14058 non-null  int32              \n",
      " 18  crawl_timestamp_hour             14058 non-null  int32              \n",
      " 19  is_FK_Advantage_product_numbers  14058 non-null  int64              \n",
      " 20  product_rating_Not               14058 non-null  object             \n",
      "dtypes: bool(1), datetime64[ns, UTC](1), float64(2), int32(4), int64(1), object(12)\n",
      "memory usage: 2.6+ MB\n"
     ]
    }
   ],
   "source": [
    "#now it complainting about '3.6', let find out, ok after finding out, i will use replace method in string function to remove \n",
    "# from quote from all the string\n",
    "\n",
    "df.info()"
   ]
  },
  {
   "cell_type": "code",
   "execution_count": 108,
   "id": "3b1af480",
   "metadata": {},
   "outputs": [
    {
     "data": {
      "text/plain": [
       "product_rating_Not\n",
       "0      13140\n",
       "5        339\n",
       "4        114\n",
       "1         91\n",
       "3         71\n",
       "2         31\n",
       "4.2       31\n",
       "4.5       25\n",
       "3.7       23\n",
       "4.3       21\n",
       "3.5       18\n",
       "2.5       16\n",
       "3.6       13\n",
       "3.8       11\n",
       "4.8       11\n",
       "4.1       11\n",
       "3.2       10\n",
       "2.3       10\n",
       "4.4        9\n",
       "3.9        8\n",
       "3.3        8\n",
       "3.4        7\n",
       "4.7        7\n",
       "4.6        5\n",
       "2.8        4\n",
       "2.7        3\n",
       "2.9        3\n",
       "4.9        3\n",
       "2.4        3\n",
       "2.2        3\n",
       "1.5        2\n",
       "1.3        2\n",
       "3.1        2\n",
       "1.7        1\n",
       "1.8        1\n",
       "2.6        1\n",
       "Name: count, dtype: int64"
      ]
     },
     "execution_count": 108,
     "metadata": {},
     "output_type": "execute_result"
    }
   ],
   "source": [
    "df['product_rating_Not'].value_counts()"
   ]
  },
  {
   "cell_type": "code",
   "execution_count": 94,
   "id": "5555eb60",
   "metadata": {},
   "outputs": [
    {
     "name": "stdout",
     "output_type": "stream",
     "text": [
      "<class 'pandas.core.frame.DataFrame'>\n",
      "Index: 14058 entries, 0 to 19999\n",
      "Data columns (total 21 columns):\n",
      " #   Column                           Non-Null Count  Dtype              \n",
      "---  ------                           --------------  -----              \n",
      " 0   uniq_id                          14058 non-null  object             \n",
      " 1   crawl_timestamp                  14058 non-null  datetime64[ns, UTC]\n",
      " 2   product_url                      14058 non-null  object             \n",
      " 3   product_name                     14058 non-null  object             \n",
      " 4   product_category_tree            14058 non-null  object             \n",
      " 5   pid                              14058 non-null  object             \n",
      " 6   retail_price                     14058 non-null  float64            \n",
      " 7   discounted_price                 14058 non-null  float64            \n",
      " 8   image                            14058 non-null  object             \n",
      " 9   is_FK_Advantage_product          14058 non-null  bool               \n",
      " 10  description                      14058 non-null  object             \n",
      " 11  product_rating                   14058 non-null  object             \n",
      " 12  overall_rating                   14058 non-null  object             \n",
      " 13  brand                            14058 non-null  object             \n",
      " 14  product_specifications           14058 non-null  object             \n",
      " 15  crawl_timestamp_year             14058 non-null  int32              \n",
      " 16  crawl_timestamp_month            14058 non-null  int32              \n",
      " 17  crawl_timestamp_weekday          14058 non-null  int32              \n",
      " 18  crawl_timestamp_hour             14058 non-null  int32              \n",
      " 19  is_FK_Advantage_product_numbers  14058 non-null  int64              \n",
      " 20  product_rating_Not               14058 non-null  object             \n",
      "dtypes: bool(1), datetime64[ns, UTC](1), float64(2), int32(4), int64(1), object(12)\n",
      "memory usage: 2.6+ MB\n"
     ]
    }
   ],
   "source": [
    "df.info()"
   ]
  },
  {
   "cell_type": "code",
   "execution_count": null,
   "id": "afba8404",
   "metadata": {},
   "outputs": [],
   "source": [
    "### Data Tranformation include\n",
    "\n",
    "#### Normalization / Scaling\n",
    "#####       Min-max scaling, standardization\n",
    "\n",
    "#### Encoding Categorical Variables\n",
    "#####       Label Encoding, One-Hot Encoding, or Binary Encoding, like converting the is_FK_Advantage_product into numbers\n",
    "\n",
    "#### Feature Engineering\n",
    "#####        Creating new features from existing ones, like creating of year, month, and day from crawl_timestamp\n",
    "#####        Combining or splitting columns.\n",
    "\n",
    "#### Aggregation\n",
    "#####        Grouping data and summarizing like creating another dataframe to know top 10 brand\n",
    "\n",
    "#### Discretization / Binning\n",
    "#####     Converting continuous data into bins (e.g., age into age groups).\n"
   ]
  }
 ],
 "metadata": {
  "kernelspec": {
   "display_name": "Python 3 (ipykernel)",
   "language": "python",
   "name": "python3"
  },
  "language_info": {
   "codemirror_mode": {
    "name": "ipython",
    "version": 3
   },
   "file_extension": ".py",
   "mimetype": "text/x-python",
   "name": "python",
   "nbconvert_exporter": "python",
   "pygments_lexer": "ipython3",
   "version": "3.11.5"
  }
 },
 "nbformat": 4,
 "nbformat_minor": 5
}
